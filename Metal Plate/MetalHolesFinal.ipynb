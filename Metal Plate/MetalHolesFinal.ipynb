{
 "cells": [
  {
   "cell_type": "code",
   "execution_count": 2,
   "id": "c311ecaf-8e48-4e76-9383-e17de548c9c8",
   "metadata": {},
   "outputs": [
    {
     "name": "stdout",
     "output_type": "stream",
     "text": [
      "loading Roboflow workspace...\n",
      "loading Roboflow project...\n",
      "Number of holes found: 16\n",
      "Holes Missing : 0\n"
     ]
    }
   ],
   "source": [
    "from roboflow import Roboflow\n",
    "import cv2\n",
    "import numpy as np\n",
    "import base64\n",
    "\n",
    "# Initialize Roboflow\n",
    "rf = Roboflow(api_key=\"tYOmMkYZj1W6AScfD6I2\")\n",
    "project = rf.workspace().project(\"metal_plate\")\n",
    "model = project.version(\"1\").model\n",
    "\n",
    "# Infer on a local image\n",
    "local_image_path = \"/home/bubbles/Downloads/OK2.jpg\"\n",
    "prediction_response = model.predict(local_image_path, confidence=40).json()\n",
    "\n",
    "# Get the predictions from the response\n",
    "predictions = prediction_response.get('predictions', [])\n",
    "\n",
    "# Check if predictions are present\n",
    "if predictions:\n",
    "    # Load the original image\n",
    "    original_image = cv2.imread(local_image_path)\n",
    "\n",
    "    # Initialize a counter for the number of holes\n",
    "    num_holes = 0\n",
    "\n",
    "    # Iterate through predictions to find holes\n",
    "    for prediction in predictions:\n",
    "        points = prediction.get('points', [])\n",
    "\n",
    "        # Check if there are enough points to form a hole (at least 3 points)\n",
    "        if len(points) >= 3:\n",
    "            # Increment the counter for each hole found\n",
    "            num_holes += 1\n",
    "\n",
    "            # Optionally, draw a bounding box around the hole for visualization\n",
    "            rect = cv2.boundingRect(np.array([(int(p['x']), int(p['y'])) for p in points]))\n",
    "            cv2.rectangle(original_image, (rect[0], rect[1]), (rect[0] + rect[2], rect[1] + rect[3]), (0, 255, 0), 2)\n",
    "\n",
    "    # Save the image with bounding boxes\n",
    "    cv2.imwrite(\"prediction_with_holes221.jpg\", original_image)\n",
    "\n",
    "    # Print the number of holes found\n",
    "    print(f\"Number of holes found: {num_holes}\")\n",
    "    print(f\"Holes Missing : {16 - num_holes}\")\n",
    "else:\n",
    "    print(\"No predictions found in the response.\")\n"
   ]
  },
  {
   "cell_type": "code",
   "execution_count": 1,
   "id": "9f457871-f7ca-4921-a698-9320ccbbbeab",
   "metadata": {},
   "outputs": [
    {
     "name": "stdout",
     "output_type": "stream",
     "text": [
      "loading Roboflow workspace...\n",
      "loading Roboflow project...\n"
     ]
    },
    {
     "name": "stderr",
     "output_type": "stream",
     "text": [
      "Warning: Ignoring XDG_SESSION_TYPE=wayland on Gnome. Use QT_QPA_PLATFORM=wayland to run on Wayland anyway.\n"
     ]
    }
   ],
   "source": [
    "from roboflow import Roboflow\n",
    "import cv2\n",
    "import numpy as np\n",
    "import base64\n",
    "import tempfile\n",
    "\n",
    "# Initialize Roboflow\n",
    "rf = Roboflow(api_key=\"tYOmMkYZj1W6AScfD6I2\")\n",
    "project = rf.workspace().project(\"metal_plate\")\n",
    "model = project.version(\"1\").model\n",
    "\n",
    "# Access the webcam (assuming it's the default camera, change the argument if needed)\n",
    "cap = cv2.VideoCapture(0)\n",
    "\n",
    "# Check if the camera opened successfully\n",
    "if not cap.isOpened():\n",
    "    print(\"Error: Could not open webcam.\")\n",
    "    exit()\n",
    "\n",
    "# Infinite loop to capture frames from the webcam\n",
    "while True:\n",
    "    # Read a frame from the webcam\n",
    "    ret, frame = cap.read()\n",
    "\n",
    "    if not ret:\n",
    "        print(\"Error: Could not read frame.\")\n",
    "        break\n",
    "\n",
    "    # Convert the frame to grayscale if needed\n",
    "    # gray_frame = cv2.cvtColor(frame, cv2.COLOR_BGR2GRAY)\n",
    "\n",
    "    # Create a temporary image file\n",
    "    temp_img_path = tempfile.NamedTemporaryFile(suffix=\".jpg\", delete=False).name\n",
    "    cv2.imwrite(temp_img_path, frame)\n",
    "\n",
    "    # Perform inference on the current frame\n",
    "    prediction_response = model.predict(temp_img_path, confidence=40).json()\n",
    "\n",
    "    # Get the predictions from the response\n",
    "    predictions = prediction_response.get('predictions', [])\n",
    "\n",
    "    # Initialize a counter for the number of holes\n",
    "    num_holes = 0\n",
    "\n",
    "    # Iterate through predictions to find holes\n",
    "    for prediction in predictions:\n",
    "        points = prediction.get('points', [])\n",
    "\n",
    "        # Check if there are enough points to form a hole (at least 3 points)\n",
    "        if len(points) >= 3:\n",
    "            # Increment the counter for each hole found\n",
    "            num_holes += 1\n",
    "\n",
    "            # Optionally, draw a bounding box around the hole for visualization\n",
    "            rect = cv2.boundingRect(np.array([(int(p['x']), int(p['y'])) for p in points]))\n",
    "            cv2.rectangle(frame, (rect[0], rect[1]), (rect[0] + rect[2], rect[1] + rect[3]), (0, 255, 0), 2)\n",
    "\n",
    "    # Display the frame with bounding boxes\n",
    "    cv2.imshow(\"Webcam with Predictions\", frame)\n",
    "\n",
    "    # Break the loop if 'q' key is pressed\n",
    "    if cv2.waitKey(1) & 0xFF == ord('q'):\n",
    "        break\n",
    "\n",
    "# Release the webcam and close all windows\n",
    "cap.release()\n",
    "cv2.destroyAllWindows()\n"
   ]
  },
  {
   "cell_type": "code",
   "execution_count": null,
   "id": "4f3e123b-480a-41ad-b9d7-87b249e55014",
   "metadata": {},
   "outputs": [],
   "source": []
  }
 ],
 "metadata": {
  "kernelspec": {
   "display_name": "Python 3 (ipykernel)",
   "language": "python",
   "name": "python3"
  },
  "language_info": {
   "codemirror_mode": {
    "name": "ipython",
    "version": 3
   },
   "file_extension": ".py",
   "mimetype": "text/x-python",
   "name": "python",
   "nbconvert_exporter": "python",
   "pygments_lexer": "ipython3",
   "version": "3.10.12"
  }
 },
 "nbformat": 4,
 "nbformat_minor": 5
}
