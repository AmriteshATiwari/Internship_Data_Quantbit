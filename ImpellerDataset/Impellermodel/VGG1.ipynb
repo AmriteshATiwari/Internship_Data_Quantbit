{
 "cells": [
  {
   "cell_type": "code",
   "execution_count": 1,
   "id": "792f1721-252b-49c2-a5cb-5a1df5e7a278",
   "metadata": {},
   "outputs": [],
   "source": [
    "from torchvision.transforms import transforms\n",
    "transform=transforms.Compose([transforms.ToTensor(),transforms.Resize(size=(224, 224))])\n",
    "from torchvision import datasets\n",
    "BASE_PATH=\"/home/bubbles/Quantbit Internship/casting_data/casting_data/train\"\n",
    "BASE_PATH_TEST=\"/home/bubbles/Quantbit Internship/casting_data/casting_data/test\"\n",
    "train=datasets.ImageFolder(root=BASE_PATH,transform=transform)\n",
    "test=datasets.ImageFolder(root=BASE_PATH_TEST,transform=transform)"
   ]
  },
  {
   "cell_type": "code",
   "execution_count": 2,
   "id": "7c53edef-e9d9-4460-a41c-9cca4e5dfd7e",
   "metadata": {},
   "outputs": [
    {
     "name": "stderr",
     "output_type": "stream",
     "text": [
      "/home/bubbles/.local/lib/python3.10/site-packages/torchvision/models/_utils.py:135: UserWarning: Using 'weights' as positional parameter(s) is deprecated since 0.13 and may be removed in the future. Please use keyword parameter(s) instead.\n",
      "  warnings.warn(\n"
     ]
    }
   ],
   "source": [
    "from torch.utils.data import DataLoader\n",
    "train_loader=DataLoader(train, batch_size=16,shuffle=True)\n",
    "test_loader=DataLoader(test,batch_size=16,shuffle=False)\n",
    "from torchvision import models\n",
    "model=models.vgg16('IMAGENET1K_V1')"
   ]
  },
  {
   "cell_type": "code",
   "execution_count": 3,
   "id": "154178c5-b9c8-4f80-a6b7-a2877e9f939b",
   "metadata": {},
   "outputs": [
    {
     "data": {
      "text/plain": [
       "VGG(\n",
       "  (features): Sequential(\n",
       "    (0): Conv2d(3, 64, kernel_size=(3, 3), stride=(1, 1), padding=(1, 1))\n",
       "    (1): ReLU(inplace=True)\n",
       "    (2): Conv2d(64, 64, kernel_size=(3, 3), stride=(1, 1), padding=(1, 1))\n",
       "    (3): ReLU(inplace=True)\n",
       "    (4): MaxPool2d(kernel_size=2, stride=2, padding=0, dilation=1, ceil_mode=False)\n",
       "    (5): Conv2d(64, 128, kernel_size=(3, 3), stride=(1, 1), padding=(1, 1))\n",
       "    (6): ReLU(inplace=True)\n",
       "    (7): Conv2d(128, 128, kernel_size=(3, 3), stride=(1, 1), padding=(1, 1))\n",
       "    (8): ReLU(inplace=True)\n",
       "    (9): MaxPool2d(kernel_size=2, stride=2, padding=0, dilation=1, ceil_mode=False)\n",
       "    (10): Conv2d(128, 256, kernel_size=(3, 3), stride=(1, 1), padding=(1, 1))\n",
       "    (11): ReLU(inplace=True)\n",
       "    (12): Conv2d(256, 256, kernel_size=(3, 3), stride=(1, 1), padding=(1, 1))\n",
       "    (13): ReLU(inplace=True)\n",
       "    (14): Conv2d(256, 256, kernel_size=(3, 3), stride=(1, 1), padding=(1, 1))\n",
       "    (15): ReLU(inplace=True)\n",
       "    (16): MaxPool2d(kernel_size=2, stride=2, padding=0, dilation=1, ceil_mode=False)\n",
       "    (17): Conv2d(256, 512, kernel_size=(3, 3), stride=(1, 1), padding=(1, 1))\n",
       "    (18): ReLU(inplace=True)\n",
       "    (19): Conv2d(512, 512, kernel_size=(3, 3), stride=(1, 1), padding=(1, 1))\n",
       "    (20): ReLU(inplace=True)\n",
       "    (21): Conv2d(512, 512, kernel_size=(3, 3), stride=(1, 1), padding=(1, 1))\n",
       "    (22): ReLU(inplace=True)\n",
       "    (23): MaxPool2d(kernel_size=2, stride=2, padding=0, dilation=1, ceil_mode=False)\n",
       "    (24): Conv2d(512, 512, kernel_size=(3, 3), stride=(1, 1), padding=(1, 1))\n",
       "    (25): ReLU(inplace=True)\n",
       "    (26): Conv2d(512, 512, kernel_size=(3, 3), stride=(1, 1), padding=(1, 1))\n",
       "    (27): ReLU(inplace=True)\n",
       "    (28): Conv2d(512, 512, kernel_size=(3, 3), stride=(1, 1), padding=(1, 1))\n",
       "    (29): ReLU(inplace=True)\n",
       "    (30): MaxPool2d(kernel_size=2, stride=2, padding=0, dilation=1, ceil_mode=False)\n",
       "  )\n",
       "  (avgpool): AdaptiveAvgPool2d(output_size=(7, 7))\n",
       "  (classifier): Sequential(\n",
       "    (0): Linear(in_features=25088, out_features=4096, bias=True)\n",
       "    (1): ReLU(inplace=True)\n",
       "    (2): Dropout(p=0.5, inplace=False)\n",
       "    (3): Linear(in_features=4096, out_features=4096, bias=True)\n",
       "    (4): ReLU(inplace=True)\n",
       "    (5): Dropout(p=0.5, inplace=False)\n",
       "    (6): Linear(in_features=4096, out_features=1000, bias=True)\n",
       "  )\n",
       ")"
      ]
     },
     "execution_count": 3,
     "metadata": {},
     "output_type": "execute_result"
    }
   ],
   "source": [
    "for param in model.features.parameters():\n",
    "    param.requires_grad = False\n",
    "model"
   ]
  },
  {
   "cell_type": "code",
   "execution_count": 4,
   "id": "72ae1af9-9b68-4170-a037-9c7de5087dca",
   "metadata": {},
   "outputs": [],
   "source": [
    "from torch import nn\n",
    "# model.fc=nn.Linear(1000,2)\n",
    "# _modules['6']\n",
    "model.classifier._modules['6']=nn.Linear(4096,2)\n",
    "# model.classifier._modules['7']=nn.Sigmoid()\n",
    "from torch.optim import Adam\n",
    "clf=model.to('cpu')\n",
    "opt=Adam(clf.parameters(),lr=1e-5)\n",
    "loss_fn=nn.CrossEntropyLoss()"
   ]
  },
  {
   "cell_type": "code",
   "execution_count": null,
   "id": "8521c532-fe6a-4b6d-999a-0db587bfc168",
   "metadata": {},
   "outputs": [
    {
     "name": "stderr",
     "output_type": "stream",
     "text": [
      "/home/bubbles/.local/lib/python3.10/site-packages/torchvision/transforms/functional.py:1603: UserWarning: The default value of the antialias parameter of all the resizing transforms (Resize(), RandomResizedCrop(), etc.) will change from None to True in v0.17, in order to be consistent across the PIL and Tensor backends. To suppress this warning, directly pass antialias=True (recommended, future default), antialias=None (current default, which means False for Tensors and True for PIL), or antialias=False (only works on Tensors - PIL will still use antialiasing). This also applies if you are using the inference transforms from the models weights: update the call to weights.transforms(antialias=True).\n",
      "  warnings.warn(\n"
     ]
    },
    {
     "name": "stdout",
     "output_type": "stream",
     "text": [
      "Epoch 1: Accuracy = 87.35% Loss:0.17238816618919373\n"
     ]
    }
   ],
   "source": [
    "import torch\n",
    "for epoch in range(20):\n",
    "  total_correct = 0\n",
    "  total_samples = 0\n",
    "  for batch in train_loader:\n",
    "    X,y=batch\n",
    "    X,y=X.to('cpu'),y.to('cpu')\n",
    "    yhat=clf(X)\n",
    "    # print(yhat,y.unsqueeze(1))\n",
    "    # print(yhat.squeeze(1).float(),y)\n",
    "    loss=loss_fn(yhat,y)\n",
    "\n",
    "    opt.zero_grad()\n",
    "    loss.backward()\n",
    "    opt.step()\n",
    "    # print(y,yhat)\n",
    "    _, predicted = torch.max(yhat, 1)\n",
    "\n",
    "        # Update the running total of correct predictions and samples\n",
    "    total_correct += (predicted == y).sum().item()\n",
    "    total_samples += y.size(0)\n",
    "\n",
    "    # Calculate the accuracy for this epoch\n",
    "  accuracy = 100 * total_correct / total_samples\n",
    "  print(f'Epoch {epoch+1}: Accuracy = {accuracy:.2f}% Loss:{loss}')\n"
   ]
  },
  {
   "cell_type": "code",
   "execution_count": null,
   "id": "0b747138-25ce-4509-80aa-0ca56526c57a",
   "metadata": {},
   "outputs": [],
   "source": []
  }
 ],
 "metadata": {
  "kernelspec": {
   "display_name": "Python 3 (ipykernel)",
   "language": "python",
   "name": "python3"
  },
  "language_info": {
   "codemirror_mode": {
    "name": "ipython",
    "version": 3
   },
   "file_extension": ".py",
   "mimetype": "text/x-python",
   "name": "python",
   "nbconvert_exporter": "python",
   "pygments_lexer": "ipython3",
   "version": "3.10.12"
  }
 },
 "nbformat": 4,
 "nbformat_minor": 5
}
